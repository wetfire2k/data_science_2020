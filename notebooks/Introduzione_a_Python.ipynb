{
  "nbformat": 4,
  "nbformat_minor": 0,
  "metadata": {
    "colab": {
      "name": "Introduzione a Python.ipynb",
      "provenance": [],
      "collapsed_sections": [
        "ZlE8igW_m43i",
        "JL6gDx_mrKR6",
        "aVVQm2a7rfdp",
        "nfSNI23WAKXL",
        "5xTDfruEx5DT",
        "oA3JRlH-0288",
        "stPhAUkM-pDf",
        "PUmiLHYpGFZP",
        "HgNI3pZ2Hl44",
        "de4s3B2nJWSQ",
        "o7mchESSPDdm"
      ],
      "authorship_tag": "ABX9TyMCMm5aM0q+fmtt71Wi8W4A",
      "include_colab_link": true
    },
    "kernelspec": {
      "name": "python3",
      "display_name": "Python 3"
    }
  },
  "cells": [
    {
      "cell_type": "markdown",
      "metadata": {
        "id": "view-in-github",
        "colab_type": "text"
      },
      "source": [
        "<a href=\"https://colab.research.google.com/github/wetfire2k/data_science_2020/blob/master/notebooks/Introduzione_a_Python.ipynb\" target=\"_parent\"><img src=\"https://colab.research.google.com/assets/colab-badge.svg\" alt=\"Open In Colab\"/></a>"
      ]
    },
    {
      "cell_type": "markdown",
      "metadata": {
        "id": "yRusrrGb9SQM",
        "colab_type": "text"
      },
      "source": [
        "#Introduzione a python\n",
        "---\n",
        "\n",
        "Corso di Data Science\n",
        "\n",
        "*a cura di Stefano Vena*\n"
      ]
    },
    {
      "cell_type": "markdown",
      "metadata": {
        "id": "ZlE8igW_m43i",
        "colab_type": "text"
      },
      "source": [
        "##Valori e tipi"
      ]
    },
    {
      "cell_type": "code",
      "metadata": {
        "id": "4yIkHBM1nBdS",
        "colab_type": "code",
        "outputId": "8cfdb719-df43-46d9-9d03-8008041180b2",
        "colab": {
          "base_uri": "https://localhost:8080/",
          "height": 119
        }
      },
      "source": [
        "a = 1 #Intero\n",
        "b = 2.0 #Decimale (Virgola mobile o floating point)\n",
        "c = \"Ciao Mondo!\" #stringa\n",
        "\n",
        "print(a) #stampiamo a schermo il valore nella variabile \"a\"\n",
        "print(b) #stampiamo a schermo il valore nella variabile \"b\"\n",
        "print(c) #stampiamo a schermo il valore nella variabile \"c\"\n",
        "\n",
        "print(type(a)) #stampiamo a schermo il tipo della variabile \"a\"\n",
        "print(type(b)) #stampiamo a schermo il tipo della variabile \"b\"\n",
        "print(type(c)) #stampiamo a schermo il tipo della variabile \"c\""
      ],
      "execution_count": 0,
      "outputs": [
        {
          "output_type": "stream",
          "text": [
            "1\n",
            "2.0\n",
            "Ciao Mondo!\n",
            "<class 'int'>\n",
            "<class 'float'>\n",
            "<class 'str'>\n"
          ],
          "name": "stdout"
        }
      ]
    },
    {
      "cell_type": "markdown",
      "metadata": {
        "id": "JL6gDx_mrKR6",
        "colab_type": "text"
      },
      "source": [
        "##Operatori Aritmetici."
      ]
    },
    {
      "cell_type": "code",
      "metadata": {
        "id": "OSm4AdS4td0x",
        "colab_type": "code",
        "outputId": "1b78832e-de82-41df-d6c0-999bc0ad3211",
        "colab": {
          "base_uri": "https://localhost:8080/",
          "height": 119
        }
      },
      "source": [
        "print(1 + 2)  #Somma\n",
        "print(3 - 4)  #Sottrazione\n",
        "print(2 * 8)  #Moltiplicazione\n",
        "print(4 / 3)  #Divisione\n",
        "print(4 // 3) #Divisione intera\n",
        "print(4 % 4 ) #Resto della divisione intera\n",
        "print(3 ** 4) #Elevamento a potenza"
      ],
      "execution_count": 0,
      "outputs": [
        {
          "output_type": "stream",
          "text": [
            "3\n",
            "-1\n",
            "200\n",
            "1.3333333333333333\n",
            "1\n",
            "81\n"
          ],
          "name": "stdout"
        }
      ]
    },
    {
      "cell_type": "markdown",
      "metadata": {
        "id": "4DM9z9pJCE3O",
        "colab_type": "text"
      },
      "source": [
        "**Esempio:**\n",
        "Un film dura 125 minuti. esprimere la durata in ore."
      ]
    },
    {
      "cell_type": "code",
      "metadata": {
        "id": "lUBEyOGzCUUI",
        "colab_type": "code",
        "outputId": "5773a808-8b2f-4599-a2b2-5b3430f1bad9",
        "colab": {
          "base_uri": "https://localhost:8080/",
          "height": 34
        }
      },
      "source": [
        "durata = 125\n",
        "ore = durata / 60 #Il valore delle ore di solito non è decimale\n",
        "ore = durata // 60 \n",
        "#quanti minuti ci sono di resto?\n",
        "resto = durata - ore*60\n",
        "#oppure\n",
        "resto = durata % 60 ## % ritorna il resto della divisione intera\n",
        "print('Il film dura', ore, 'ore e', resto , 'minuti')\n"
      ],
      "execution_count": 0,
      "outputs": [
        {
          "output_type": "stream",
          "text": [
            "Il film dura 2 ore e 5 minuti\n"
          ],
          "name": "stdout"
        }
      ]
    },
    {
      "cell_type": "markdown",
      "metadata": {
        "id": "aVVQm2a7rfdp",
        "colab_type": "text"
      },
      "source": [
        "##Variabili Booleane e operatori logici"
      ]
    },
    {
      "cell_type": "code",
      "metadata": {
        "id": "PjmOviu7rlE_",
        "colab_type": "code",
        "outputId": "e5d66d52-acb3-40c8-a8cf-7d7a77d982bd",
        "colab": {
          "base_uri": "https://localhost:8080/",
          "height": 136
        }
      },
      "source": [
        "a = True\n",
        "b = False\n",
        "c = 1\n",
        "d = 0\n",
        "\n",
        "print(a and b)  #False\n",
        "print(a and a)  #True\n",
        "print(a or b)   #True\n",
        "print(b or b)   #False\n",
        "print(not a)    #False\n",
        "print(c and d)  #0 (False)\n",
        "print(a or c)   #True"
      ],
      "execution_count": 0,
      "outputs": [
        {
          "output_type": "stream",
          "text": [
            "False\n",
            "True\n",
            "True\n",
            "False\n",
            "False\n",
            "0\n",
            "True\n"
          ],
          "name": "stdout"
        }
      ]
    },
    {
      "cell_type": "markdown",
      "metadata": {
        "id": "nfSNI23WAKXL",
        "colab_type": "text"
      },
      "source": [
        "##Operatori di confronto"
      ]
    },
    {
      "cell_type": "code",
      "metadata": {
        "id": "X2fWWyGvAP6d",
        "colab_type": "code",
        "outputId": "a31c078a-0973-49cb-bb2f-bb7663948b64",
        "colab": {
          "base_uri": "https://localhost:8080/",
          "height": 119
        }
      },
      "source": [
        "x = 2\n",
        "y = 3\n",
        "print(x == y) #x è uguale a y\n",
        "print(x != y) # x è diverso da y\n",
        "print(x > y) # x è maggiore di y\n",
        "print(x < y) # x è minore di y\n",
        "print(x >= y) # x è maggiore o uguale a y\n",
        "print(x <= y) # x è minore o uguale a y"
      ],
      "execution_count": 0,
      "outputs": [
        {
          "output_type": "stream",
          "text": [
            "False\n",
            "True\n",
            "False\n",
            "True\n",
            "False\n",
            "True\n"
          ],
          "name": "stdout"
        }
      ]
    },
    {
      "cell_type": "markdown",
      "metadata": {
        "id": "5xTDfruEx5DT",
        "colab_type": "text"
      },
      "source": [
        "#Variabili, istruzioni, espressioni"
      ]
    },
    {
      "cell_type": "code",
      "metadata": {
        "id": "qIolxw7ex-qk",
        "colab_type": "code",
        "outputId": "9757b3c1-6da7-4255-daeb-826e45bbc607",
        "colab": {
          "base_uri": "https://localhost:8080/",
          "height": 34
        }
      },
      "source": [
        "#80volte = True\n",
        "base = 30\n",
        "altezza = 20\n",
        "area_triangolo = base * altezza / 2\n",
        "print(area_triangolo)\n"
      ],
      "execution_count": 0,
      "outputs": [
        {
          "output_type": "stream",
          "text": [
            "300.0\n"
          ],
          "name": "stdout"
        }
      ]
    },
    {
      "cell_type": "markdown",
      "metadata": {
        "id": "oA3JRlH-0288",
        "colab_type": "text"
      },
      "source": [
        "##Funzioni\n",
        "risultato = **funzione**(argomento)\n",
        "\n",
        "Si possono usare nelle espressioni\n",
        "\n",
        "area_triangolo = area_rettangolo(base, altezza) / 2\n",
        "\n",
        "**Definire una nuova funzione**\n",
        "\n",
        "```\n",
        "def area_rettangolo(base, altezza):\n",
        "  return base * altezza\n",
        "```\n",
        "\n",
        "Non tutte le funzioni producono un risultato, esse sono dette vuote\n",
        "Es: print(‘ciao’)\n",
        "\n",
        "**Perché sono importanti le funzioni?**\n",
        "\n"
      ]
    },
    {
      "cell_type": "code",
      "metadata": {
        "id": "5ppbNB2U7CEF",
        "colab_type": "code",
        "outputId": "039b76e9-48c0-4a2c-a894-20be08e8dee7",
        "colab": {
          "base_uri": "https://localhost:8080/",
          "height": 51
        }
      },
      "source": [
        "import math\n",
        "a = math.sin(2)\n",
        "print(a)\n",
        "\n",
        "def area_rettangolo(base, altezza):\n",
        "    return base * altezza\n",
        "\n",
        "area_triangolo = area_rettangolo(30, 20) / 2\n",
        "\n",
        "print(area_triangolo)\n"
      ],
      "execution_count": 0,
      "outputs": [
        {
          "output_type": "stream",
          "text": [
            "0.9092974268256817\n",
            "300.0\n"
          ],
          "name": "stdout"
        }
      ]
    },
    {
      "cell_type": "markdown",
      "metadata": {
        "id": "stPhAUkM-pDf",
        "colab_type": "text"
      },
      "source": [
        "##Ambito delle variabili"
      ]
    },
    {
      "cell_type": "code",
      "metadata": {
        "id": "QC1EHBPU-koO",
        "colab_type": "code",
        "outputId": "60f4c233-eb6b-4640-dad4-9dfe04f1715f",
        "colab": {
          "base_uri": "https://localhost:8080/",
          "height": 249
        }
      },
      "source": [
        "a = 10\n",
        "b = 12\n",
        "def fun():\n",
        "  print(a) #qui a è visibile ma è una pratica scorretta!\n",
        "  b = 24 #non stiamo modificando la b dichiarata prima\n",
        "  variabile = 3\n",
        "  print(b)\n",
        "fun()  \n",
        "print(b)\n",
        "#print(variabile) #errore: variabile qui non esiste! "
      ],
      "execution_count": 0,
      "outputs": [
        {
          "output_type": "stream",
          "text": [
            "10\n",
            "24\n",
            "12\n"
          ],
          "name": "stdout"
        },
        {
          "output_type": "error",
          "ename": "NameError",
          "evalue": "ignored",
          "traceback": [
            "\u001b[0;31m---------------------------------------------------------------------------\u001b[0m",
            "\u001b[0;31mNameError\u001b[0m                                 Traceback (most recent call last)",
            "\u001b[0;32m<ipython-input-21-36666fa1409d>\u001b[0m in \u001b[0;36m<module>\u001b[0;34m()\u001b[0m\n\u001b[1;32m      8\u001b[0m \u001b[0mfun\u001b[0m\u001b[0;34m(\u001b[0m\u001b[0;34m)\u001b[0m\u001b[0;34m\u001b[0m\u001b[0;34m\u001b[0m\u001b[0m\n\u001b[1;32m      9\u001b[0m \u001b[0mprint\u001b[0m\u001b[0;34m(\u001b[0m\u001b[0mb\u001b[0m\u001b[0;34m)\u001b[0m\u001b[0;34m\u001b[0m\u001b[0;34m\u001b[0m\u001b[0m\n\u001b[0;32m---> 10\u001b[0;31m \u001b[0mprint\u001b[0m\u001b[0;34m(\u001b[0m\u001b[0mvariabile\u001b[0m\u001b[0;34m)\u001b[0m \u001b[0;31m#errore: variabile qui non esiste!\u001b[0m\u001b[0;34m\u001b[0m\u001b[0;34m\u001b[0m\u001b[0m\n\u001b[0m",
            "\u001b[0;31mNameError\u001b[0m: name 'variabile' is not defined"
          ]
        }
      ]
    },
    {
      "cell_type": "markdown",
      "metadata": {
        "id": "PUmiLHYpGFZP",
        "colab_type": "text"
      },
      "source": [
        "##Esecuzione condizionale"
      ]
    },
    {
      "cell_type": "code",
      "metadata": {
        "id": "POxOj797GEpi",
        "colab_type": "code",
        "outputId": "a0ec1445-8969-478a-f620-aa7fbd91d3d2",
        "colab": {
          "base_uri": "https://localhost:8080/",
          "height": 51
        }
      },
      "source": [
        "x = 2\n",
        "y = 5\n",
        "#semplice\n",
        "if x % 2 == 0:\n",
        "  print('x è pari')\n",
        "else:\n",
        "  print('x è dispari')\n",
        "#condizione in serie\n",
        "if x < y:\n",
        "  print('x è minore di y')\n",
        "elif x > y:\n",
        "  print('x è maggiore di y')\n",
        "else:\n",
        "  print('x e y sono uguali')  "
      ],
      "execution_count": 0,
      "outputs": [
        {
          "output_type": "stream",
          "text": [
            "x è pari\n",
            "x è minore di y\n"
          ],
          "name": "stdout"
        }
      ]
    },
    {
      "cell_type": "markdown",
      "metadata": {
        "id": "HgNI3pZ2Hl44",
        "colab_type": "text"
      },
      "source": [
        "##Ricorsione\n",
        "Una funzione può richiamare anche se stessa."
      ]
    },
    {
      "cell_type": "code",
      "metadata": {
        "id": "Gb8jjE8oGFQS",
        "colab_type": "code",
        "outputId": "babd0c5f-7a03-444c-c775-0fa68602349c",
        "colab": {
          "base_uri": "https://localhost:8080/",
          "height": 119
        }
      },
      "source": [
        "def conto_alla_rovescia(n):\n",
        "  if n <= 0:\n",
        "    print('Via!')\n",
        "  else:\n",
        "    print(n)\n",
        "    conto_alla_rovescia(n-1)\n",
        "\n",
        "conto_alla_rovescia(3)"
      ],
      "execution_count": 0,
      "outputs": [
        {
          "output_type": "stream",
          "text": [
            "5\n",
            "4\n",
            "3\n",
            "2\n",
            "1\n",
            "Via!\n"
          ],
          "name": "stdout"
        }
      ]
    },
    {
      "cell_type": "markdown",
      "metadata": {
        "id": "de4s3B2nJWSQ",
        "colab_type": "text"
      },
      "source": [
        "##Input da tastiera"
      ]
    },
    {
      "cell_type": "code",
      "metadata": {
        "id": "5t8aMV4xJBrM",
        "colab_type": "code",
        "outputId": "9d114b0d-1172-4319-b127-0578b3aadb47",
        "colab": {
          "base_uri": "https://localhost:8080/",
          "height": 119
        }
      },
      "source": [
        "nome = input('Come ti chiami?\\n') #\\n è un codice speciale che indica l'andata a capo\n",
        "anni = input(\"Quanti anni hai?\\n\")\n",
        "print('Ciao', nome, 'hai', int(anni), 'anni' ) #la funzione int() converte una stringa in numero intero (cast)\n"
      ],
      "execution_count": 0,
      "outputs": [
        {
          "output_type": "stream",
          "text": [
            "Come ti chiami?\n",
            "d\n",
            "d\n",
            "Quanti anni hai?\n",
            "32\n",
            "hai 32\n"
          ],
          "name": "stdout"
        }
      ]
    },
    {
      "cell_type": "markdown",
      "metadata": {
        "id": "o7mchESSPDdm",
        "colab_type": "text"
      },
      "source": [
        "##Iterazione\n",
        "\n",
        "###while\n",
        "\n",
        "L'istruzione *while* ripete un insieme di espressioni fintanto che una condizione si mantenga verificata"
      ]
    },
    {
      "cell_type": "code",
      "metadata": {
        "id": "8M02nvSCPqY6",
        "colab_type": "code",
        "outputId": "3ee36892-a5d9-4455-d7a2-0ec6e4cf18fd",
        "colab": {
          "base_uri": "https://localhost:8080/",
          "height": 85
        }
      },
      "source": [
        "n = 3\n",
        "while n > 0:\n",
        "  print(n)\n",
        "  n = n-1\n",
        "print('Via!')"
      ],
      "execution_count": 0,
      "outputs": [
        {
          "output_type": "stream",
          "text": [
            "3\n",
            "2\n",
            "1\n",
            "Via!\n"
          ],
          "name": "stdout"
        }
      ]
    },
    {
      "cell_type": "markdown",
      "metadata": {
        "id": "PBQpI_g2Qkfo",
        "colab_type": "text"
      },
      "source": [
        "interrompere il while: *break*"
      ]
    },
    {
      "cell_type": "code",
      "metadata": {
        "id": "iU-uNcWkQpsI",
        "colab_type": "code",
        "outputId": "a6dc9742-f908-4874-c0ca-0e6d9ede024c",
        "colab": {
          "base_uri": "https://localhost:8080/",
          "height": 119
        }
      },
      "source": [
        "while True:\n",
        "  riga = input('> ')\n",
        "  if riga == 'fine':\n",
        "    break\n",
        "  print(riga)\n",
        "\n",
        "print('Finito!')"
      ],
      "execution_count": 0,
      "outputs": [
        {
          "output_type": "stream",
          "text": [
            "> ciao\n",
            "ciao\n",
            "> finE\n",
            "finE\n",
            "> fine\n",
            "Finito!\n"
          ],
          "name": "stdout"
        }
      ]
    },
    {
      "cell_type": "markdown",
      "metadata": {
        "id": "_9OGnu4aRh37",
        "colab_type": "text"
      },
      "source": [
        "#Le stringhe"
      ]
    },
    {
      "cell_type": "code",
      "metadata": {
        "id": "vWcsT1LhRlzA",
        "colab_type": "code",
        "outputId": "b93db09f-800b-4bda-f20c-d21efa499379",
        "colab": {
          "base_uri": "https://localhost:8080/",
          "height": 170
        }
      },
      "source": [
        "str1 = 'Questa  è una stringa, costruita con virgolette singole.'\n",
        "str2 = \"Anche questa è una stringa, ma costruita con virgolette doppie.\"\n",
        "str3 = '''Questa stringa è costruita con tre virgolette singole,\n",
        "Quindi può essere suddivisa in più righe'''\n",
        "str4 = \"\"\"Anche questa stringa è multilinea perchè \n",
        "racchiusa da tre virgolette doppie\"\"\"\n",
        "\n",
        "print(str3)"
      ],
      "execution_count": 0,
      "outputs": [
        {
          "output_type": "stream",
          "text": [
            "Questa stringa è costruita con tre virgolette singole,\n",
            "Quindi può essere suddivisa in più righe\n",
            "S\n",
            "Sono\n",
            " una bella stringa senza alcun senso\n",
            "no una bella\n",
            "nu l\n",
            "osnes nuc\n",
            "40\n"
          ],
          "name": "stdout"
        }
      ]
    },
    {
      "cell_type": "code",
      "metadata": {
        "id": "2dozX6LUWOcq",
        "colab_type": "code",
        "colab": {}
      },
      "source": [
        "#Slicing\n",
        "s = \"Sono una bella stringa senza alcun senso\"\n",
        "print( s[0] )\n",
        "print( s[:4] ) #slicing, specifichiamo solo la posizione di stop\n",
        "print( s[4:] ) #slicing, specifichiamo solo la posizione di start\n",
        "print( s[2:14] ) #slicing, specifichiamo la posizione di start e di stop\n",
        "print( s[2:14:3] ) #slicing, start, stop e passo (ogni 3 caratteri)\n",
        "print( s[40:30:-1] ) #slicing con passo negativo\n",
        "s1 = s[:] # copia della stringa ( metodo rapido )\n",
        "print( len(s1) ) #quanti caratteri contiene la stringa?"
      ],
      "execution_count": 0,
      "outputs": []
    },
    {
      "cell_type": "code",
      "metadata": {
        "id": "fL4uOnqYWJGq",
        "colab_type": "code",
        "outputId": "92fdd258-55f7-4373-8fce-3b9a2e96cc91",
        "colab": {
          "base_uri": "https://localhost:8080/",
          "height": 697
        }
      },
      "source": [
        "#Attraversare una stringa\n",
        "indice = 0\n",
        "while indice < len(s):\n",
        "  lettera = s[indice]\n",
        "  print(lettera)\n",
        "  indice = indice + 1"
      ],
      "execution_count": 0,
      "outputs": [
        {
          "output_type": "stream",
          "text": [
            "S\n",
            "o\n",
            "n\n",
            "o\n",
            " \n",
            "u\n",
            "n\n",
            "a\n",
            " \n",
            "b\n",
            "e\n",
            "l\n",
            "l\n",
            "a\n",
            " \n",
            "s\n",
            "t\n",
            "r\n",
            "i\n",
            "n\n",
            "g\n",
            "a\n",
            " \n",
            "s\n",
            "e\n",
            "n\n",
            "z\n",
            "a\n",
            " \n",
            "a\n",
            "l\n",
            "c\n",
            "u\n",
            "n\n",
            " \n",
            "s\n",
            "e\n",
            "n\n",
            "s\n",
            "o\n"
          ],
          "name": "stdout"
        }
      ]
    },
    {
      "cell_type": "code",
      "metadata": {
        "id": "FZFUj8ADWjiB",
        "colab_type": "code",
        "outputId": "8875faa5-aaa7-47a8-f1c4-ee2709f4ab6a",
        "colab": {
          "base_uri": "https://localhost:8080/",
          "height": 697
        }
      },
      "source": [
        "for lettera in s:\n",
        "  print(lettera)"
      ],
      "execution_count": 0,
      "outputs": [
        {
          "output_type": "stream",
          "text": [
            "S\n",
            "o\n",
            "n\n",
            "o\n",
            " \n",
            "u\n",
            "n\n",
            "a\n",
            " \n",
            "b\n",
            "e\n",
            "l\n",
            "l\n",
            "a\n",
            " \n",
            "s\n",
            "t\n",
            "r\n",
            "i\n",
            "n\n",
            "g\n",
            "a\n",
            " \n",
            "s\n",
            "e\n",
            "n\n",
            "z\n",
            "a\n",
            " \n",
            "a\n",
            "l\n",
            "c\n",
            "u\n",
            "n\n",
            " \n",
            "s\n",
            "e\n",
            "n\n",
            "s\n",
            "o\n"
          ],
          "name": "stdout"
        }
      ]
    },
    {
      "cell_type": "code",
      "metadata": {
        "id": "KrOx9L8pX7mg",
        "colab_type": "code",
        "outputId": "4d37632d-1106-437a-ab45-31d06e134522",
        "colab": {
          "base_uri": "https://localhost:8080/",
          "height": 34
        }
      },
      "source": [
        "#Trova un valore in una stringa\n",
        "def trova(parola, lettera):\n",
        "  indice = 0\n",
        "  while indice < len(parola):\n",
        "    if parola[indice] == lettera:\n",
        "      return indice\n",
        "    indice = indice + 1\n",
        "  return -1\n",
        "\n",
        "\n",
        "print( trova( \"Stefano\", 'f') )"
      ],
      "execution_count": 0,
      "outputs": [
        {
          "output_type": "stream",
          "text": [
            "3\n"
          ],
          "name": "stdout"
        }
      ]
    },
    {
      "cell_type": "code",
      "metadata": {
        "id": "aCTRELjiYpXm",
        "colab_type": "code",
        "colab": {}
      },
      "source": [
        "parola = 'supercalifragilistichespiralidoso'\n",
        "conta_lettera = 'i' \n",
        "conta = 0\n",
        "for lettera in parola:\n",
        "  if lettera == conta_lettera:\n",
        "    conta = conta + 1\n",
        "print(conta)"
      ],
      "execution_count": 0,
      "outputs": []
    },
    {
      "cell_type": "code",
      "metadata": {
        "id": "RqYqTsPDYZCE",
        "colab_type": "code",
        "colab": {}
      },
      "source": [
        "#Trasforma il codice conta caratteri in funzione."
      ],
      "execution_count": 0,
      "outputs": []
    },
    {
      "cell_type": "code",
      "metadata": {
        "id": "jOPT9NDGaDLL",
        "colab_type": "code",
        "colab": {}
      },
      "source": [
        "#funzioni basi sulle stringhe\n",
        "\n",
        "s = 'Ciao a tutti'\n",
        "s.upper()\n",
        "s.lower()\n",
        "s.capitalize()\n",
        "s.find(\"a\")\n",
        "\n",
        "if( 'tutti' in s ):\n",
        "  print(\"esiste\")\n",
        "else:\n",
        "  print(\"non esiste\")\n"
      ],
      "execution_count": 0,
      "outputs": []
    },
    {
      "cell_type": "code",
      "metadata": {
        "id": "99gRDF0_at4z",
        "colab_type": "code",
        "colab": {}
      },
      "source": [
        " #Confronto di stringhe\n",
        "\n",
        "parola = 'ananas'\n",
        "parola2 = 'banana'\n",
        "\n",
        "if parola < parola2:\n",
        "  print('La tua parola' , parola , 'viene prima di', parola2 + \".\")\n",
        "elif parola > parola2:\n",
        "  print('La tua parola' , parola , 'viene dopo', parola2 + \".\")\n",
        "else:\n",
        "  print('le parole sono uguali')"
      ],
      "execution_count": 0,
      "outputs": []
    },
    {
      "cell_type": "markdown",
      "metadata": {
        "id": "QSyV8ecgeCvc",
        "colab_type": "text"
      },
      "source": [
        "##Tuple"
      ]
    },
    {
      "cell_type": "code",
      "metadata": {
        "id": "D0sASXh9eCVU",
        "colab_type": "code",
        "colab": {}
      },
      "source": [
        "t = 'a', 'b', 'c', 'd', 'e'\n",
        "\n",
        "#non è necessario ma è convenzione usare sempre le parentesi\n",
        "t1 = ('a', 'b', 'c', 'd', 'e')\n",
        "\n",
        "print('t1==t ?', t == t1)\n",
        "\n",
        "t = () #tupla vuota\n",
        "print( type(t) )\u000b\n",
        "\n",
        "one_element_tuple = (42, ) # non dimenticare la virgola!\n",
        "\n",
        "three_elements_tuple = (1, 3, 5)\n",
        "\n",
        "a, b, c = 1, 2, 3 # tuple nell'assegnamento multiplo\n",
        "\n",
        "print('3 è nella tupla?', 3 in three_elements_tuple ) # membership test (la tupla contiene il numero 3?)\n",
        "\n"
      ],
      "execution_count": 0,
      "outputs": []
    },
    {
      "cell_type": "markdown",
      "metadata": {
        "id": "6q9WfGg9fUQF",
        "colab_type": "text"
      },
      "source": [
        "**Esercizio** scambiare *a* e *b* "
      ]
    },
    {
      "cell_type": "code",
      "metadata": {
        "id": "yoh0KWr7fiAs",
        "colab_type": "code",
        "colab": {}
      },
      "source": [
        "a = 1\n",
        "b = 2\n",
        "print('a = ', a)\n",
        "print('b = ', b)\n",
        "\n",
        "print('scambio...')\n",
        "#scambio\n",
        "\n",
        "\n",
        "print('a = ', a)\n",
        "print('b = ', b)"
      ],
      "execution_count": 0,
      "outputs": []
    },
    {
      "cell_type": "markdown",
      "metadata": {
        "id": "R7gtOCbaYF2G",
        "colab_type": "text"
      },
      "source": [
        "##Liste"
      ]
    },
    {
      "cell_type": "code",
      "metadata": {
        "id": "quJmBkUmYIxx",
        "colab_type": "code",
        "colab": {}
      },
      "source": [
        "lista = [10, 20, 30, 40]\n",
        "lista2 = ['Primi piatti', 'Secondi piatti', 'Dessert']\n",
        "\n",
        "#operazioni sulle liste\n",
        "\n",
        "a = [1, 2, 1, 3, 6, 8]\n",
        "\n",
        "a.pop () # pop (rimuovi e ritorna) ultimo elemento\n",
        "a.pop (3) # elemento pop alla posizione 3\n",
        "a.append (13) # possiamo aggiungere qualsiasi cosa alla fine\n",
        "a.insert (0, 17) # inserisce `17` nella posizione 0\n",
        "a.remove (17) # rimuove `17` dall'elenco\n",
        "a.extend ([5, 7]) # estende la lista\n",
        "print(\"lista manipolata\", a)\n",
        "\n",
        "a.reverse () # inverte l'ordine degli elementi nell'elenco\n",
        "a.sort() # Ordina la lista\n",
        "a.index (13) # posizione di `13` nell'elenco (indicizzazione basata su 0)\n",
        "a.count (1) # quanti `1` ci sono nella lista?\n",
        "a.clear() # Rimuove tutti gli elementi dalla lista\n",
        "\n",
        "a = [1, 3, 5, 7]\n",
        "min (a) # valore minimo nell'elenco\n",
        "max (a) # valore massimo nell'elenco\n",
        "sum (a) # somma di tutti i valori nell'elenco\n",
        "len (a) # numero di elementi nell'elenco\n",
        "\n",
        "b = ['a', 'b', 'c']\n",
        "print(a + b) # `+` con le liste significa concatenazione\n",
        "print(b * 2) # `*` ha anche un significato speciale"
      ],
      "execution_count": 0,
      "outputs": []
    },
    {
      "cell_type": "markdown",
      "metadata": {
        "id": "NnzxOa1Qcg70",
        "colab_type": "text"
      },
      "source": [
        "Slicing delle liste"
      ]
    },
    {
      "cell_type": "code",
      "metadata": {
        "id": "FhJt408zb-xx",
        "colab_type": "code",
        "colab": {}
      },
      "source": [
        "a = [0, 1, 2, 3, 4, 5, 6, 7, 8, 9]\n",
        "lunghezza = len(a) # la lunghezza è di 10 elementi\n",
        "ultimo_elemento = a[lunghezza - 1] # la posizione dell’ultimo elemento\n",
        "a[-1] # oppure... "
      ],
      "execution_count": 0,
      "outputs": []
    },
    {
      "cell_type": "markdown",
      "metadata": {
        "id": "CDSwLPwBd68Q",
        "colab_type": "text"
      },
      "source": [
        "###Map, reduce, filter"
      ]
    },
    {
      "cell_type": "code",
      "metadata": {
        "id": "3hkHhKAEce1F",
        "colab_type": "code",
        "outputId": "2df32004-5979-4d27-d041-b36724d4cd10",
        "colab": {
          "base_uri": "https://localhost:8080/",
          "height": 34
        }
      },
      "source": [
        "def somma_tutti(t):\n",
        "  totale = 0\n",
        "  for x in t:\n",
        "    totale += x\n",
        "  return totale\n",
        "\n",
        "#questa operazione è detta riduzione\n",
        "elenco = [1,1,2,3,4,5]\n",
        "somma_tutti(elenco)\n",
        "\n",
        "#in python esiste una funzione già disponibile\n",
        "print( sum(elenco) == somma_tutti(elenco))"
      ],
      "execution_count": 0,
      "outputs": [
        {
          "output_type": "stream",
          "text": [
            "True\n"
          ],
          "name": "stdout"
        }
      ]
    },
    {
      "cell_type": "code",
      "metadata": {
        "id": "79gNftzJhZzj",
        "colab_type": "code",
        "outputId": "ca498db8-565a-42e3-a427-c0fdb1b0c7c8",
        "colab": {
          "base_uri": "https://localhost:8080/",
          "height": 51
        }
      },
      "source": [
        "def tutte_maiuscole(t):\n",
        "  res = []\n",
        "  for s in t:\n",
        "    res.append(s.upper()) #mappatura\n",
        "  return res\n",
        "\n",
        "lista = list(\"ciao\") #convertire una stringa in lista\n",
        "lista2 = tutte_maiuscole(lista)\n",
        "\n",
        "stringa = \"\".join(lista2)\n",
        "print(stringa)\n",
        "\n",
        "lista = \"ciao come stai\".split() #convertire una stringa in lista\n",
        "print(lista)"
      ],
      "execution_count": 0,
      "outputs": [
        {
          "output_type": "stream",
          "text": [
            "CIAO\n",
            "['ciao', 'come', 'stai']\n"
          ],
          "name": "stdout"
        }
      ]
    },
    {
      "cell_type": "code",
      "metadata": {
        "id": "2Z47LG8qi2F6",
        "colab_type": "code",
        "outputId": "f80d4b19-a565-43c6-9222-dd624010fa10",
        "colab": {
          "base_uri": "https://localhost:8080/",
          "height": 34
        }
      },
      "source": [
        "def solo_maiuscole(t):\n",
        "  res = []\n",
        "  for s in t:\n",
        "    if s.isupper():\n",
        "      res.append(s)\n",
        "  return res\n",
        "\n",
        "#filtriamo solo le lettere Maiuscole\n",
        "lista = list('CiIaAoO')\n",
        "maiuscole = solo_maiuscole( lista )\n",
        "print( \"\".join( maiuscole ) )"
      ],
      "execution_count": 32,
      "outputs": [
        {
          "output_type": "stream",
          "text": [
            "CIAO\n"
          ],
          "name": "stdout"
        }
      ]
    },
    {
      "cell_type": "markdown",
      "metadata": {
        "id": "s3IShYJto2Cm",
        "colab_type": "text"
      },
      "source": [
        "Oggetti, Valori, Alias e riferimenti"
      ]
    },
    {
      "cell_type": "code",
      "metadata": {
        "id": "jRe0pzj-o8XI",
        "colab_type": "code",
        "colab": {
          "base_uri": "https://localhost:8080/",
          "height": 34
        },
        "outputId": "8512ba70-ae9a-48b5-f023-b2e29759dd2d"
      },
      "source": [
        "a = 'sole'\n",
        "b = 'sole'\n",
        "#python ha creato un oggetto stringa con il valore 'sole' e lo ha assegnato alle variabili 'a' e 'b'\n",
        "print( a is b ) #a è la stessa cosa di b"
      ],
      "execution_count": 36,
      "outputs": [
        {
          "output_type": "stream",
          "text": [
            "True\n"
          ],
          "name": "stdout"
        }
      ]
    },
    {
      "cell_type": "code",
      "metadata": {
        "id": "raY9Zp5Gpk3U",
        "colab_type": "code",
        "colab": {
          "base_uri": "https://localhost:8080/",
          "height": 34
        },
        "outputId": "dde9ab7b-e013-4cc4-b904-0aa1b1d7bb60"
      },
      "source": [
        "#ma se creiamo due liste con lo stesso valore cosa accade?\n",
        "a = [1, 2, 3]\n",
        "b = [1, 2, 3]\n",
        "a is b #a e b sono due oggetti diversi con lo stesso valore"
      ],
      "execution_count": 38,
      "outputs": [
        {
          "output_type": "execute_result",
          "data": {
            "text/plain": [
              "False"
            ]
          },
          "metadata": {
            "tags": []
          },
          "execution_count": 38
        }
      ]
    },
    {
      "cell_type": "markdown",
      "metadata": {
        "id": "2eoDnu9KsAvc",
        "colab_type": "text"
      },
      "source": [
        "L’associazione tra una variabile e un oggetto è chiamato riferimento. \n",
        "In questo esempio ci sono due **riferimenti** allo stesso **oggetto**.\n",
        "\n",
        "Un oggetto che ha più di un riferimento ha anche più di un nome, e si dice quindi che l’oggetto ha degli **alias**."
      ]
    },
    {
      "cell_type": "code",
      "metadata": {
        "id": "ioCwMOEWnkNW",
        "colab_type": "code",
        "colab": {
          "base_uri": "https://localhost:8080/",
          "height": 51
        },
        "outputId": "bb48aa3c-0485-43b1-d780-c20f5f5fefd0"
      },
      "source": [
        "a = [1, 2, 3]\n",
        "b = a\n",
        "print(a is b)\n",
        "\n",
        "b[0] = 2\n",
        "print(a)"
      ],
      "execution_count": 45,
      "outputs": [
        {
          "output_type": "stream",
          "text": [
            "True\n",
            "[2, 2, 3]\n"
          ],
          "name": "stdout"
        }
      ]
    },
    {
      "cell_type": "markdown",
      "metadata": {
        "id": "Zp_YyD9FtHqB",
        "colab_type": "text"
      },
      "source": [
        "Effetti collaterali"
      ]
    },
    {
      "cell_type": "code",
      "metadata": {
        "id": "mhM1HlF6tLlD",
        "colab_type": "code",
        "colab": {
          "base_uri": "https://localhost:8080/",
          "height": 51
        },
        "outputId": "18a97948-feea-4c6f-a05e-b083a38f77dd"
      },
      "source": [
        "def rimuovi_primo(lista):\n",
        "  \"\"\" lista è un alias quindi modificare \n",
        "      l'argomento equivale a modificare il valore iniziale \"\"\"      \n",
        "  del lista[0]\n",
        "  return lista\n",
        "\n",
        "lista = [1, 2, 3]\n",
        "lista_1 = rimuovi_primo(lista)\n",
        "print(lista)\n",
        "print(lista_1)\n"
      ],
      "execution_count": 47,
      "outputs": [
        {
          "output_type": "stream",
          "text": [
            "[2, 3]\n",
            "[2, 3]\n"
          ],
          "name": "stdout"
        }
      ]
    },
    {
      "cell_type": "markdown",
      "metadata": {
        "id": "VoNGK8w0uGj4",
        "colab_type": "text"
      },
      "source": [
        "versione corretta"
      ]
    },
    {
      "cell_type": "code",
      "metadata": {
        "id": "K2W9PkdHuEm8",
        "colab_type": "code",
        "colab": {
          "base_uri": "https://localhost:8080/",
          "height": 51
        },
        "outputId": "eef7092c-b7a8-4d2c-bd91-6c1a9a4a9fd7"
      },
      "source": [
        "def rimuovi_primo(lista):\n",
        "  \"\"\" lista è un alias quindi modificare \n",
        "      l'argomento equivale a modificare il valore iniziale \"\"\"      \n",
        "  return lista[1:]\n",
        "\n",
        "lista = [1, 2, 3]\n",
        "lista_1 = rimuovi_primo(lista)\n",
        "print(lista)\n",
        "print(lista_1)"
      ],
      "execution_count": 49,
      "outputs": [
        {
          "output_type": "stream",
          "text": [
            "[1, 2, 3]\n",
            "[2, 3]\n"
          ],
          "name": "stdout"
        }
      ]
    },
    {
      "cell_type": "markdown",
      "metadata": {
        "id": "8I9ER6squvDx",
        "colab_type": "text"
      },
      "source": [
        "##Esercizi\n",
        "\n",
        "\n",
        "1.   Calcolare la media di una lista di valori\n",
        "2.   Calcolare la mediana di una lista di valori\n",
        "\n",
        "come si calcola la media? [link](https://it.wikipedia.org/wiki/Media_(statistica)#Media_aritmetica)\n",
        "\n",
        "come si calcola la mediana? [link](https://it.wikipedia.org/wiki/Mediana_(statistica))"
      ]
    },
    {
      "cell_type": "code",
      "metadata": {
        "id": "tDRuDUFfu97V",
        "colab_type": "code",
        "colab": {
          "base_uri": "https://localhost:8080/",
          "height": 34
        },
        "outputId": "beb4e9a3-5a7a-4ae3-914e-554440460a03"
      },
      "source": [
        "#media\n",
        "def media(lista):\n",
        "  somma = 0\n",
        "  for valore in lista:\n",
        "    somma = somma + valore\n",
        "\n",
        "  return somma / len(lista)\n",
        "\n",
        "lista = [1, 20, 3, 4, 5, 1.6, 7, 8, 3.9, 10]\n",
        "print(media(lista))"
      ],
      "execution_count": 67,
      "outputs": [
        {
          "output_type": "stream",
          "text": [
            "6.35\n"
          ],
          "name": "stdout"
        }
      ]
    },
    {
      "cell_type": "code",
      "metadata": {
        "id": "BENaSnqLva-5",
        "colab_type": "code",
        "colab": {
          "base_uri": "https://localhost:8080/",
          "height": 34
        },
        "outputId": "f579adab-1eee-4721-e98e-0e93b4e3cc35"
      },
      "source": [
        "#mediana\n",
        "def mediana( lista ):\n",
        "  centro = (len(lista) // 2 ) - 1\n",
        "  lista_ordinata = lista[:] #facciamo una copia\n",
        "  lista_ordinata.sort()\n",
        "  if len(lista) % 2 == 0 : #pari\n",
        "    return ( lista_ordinata[centro] + lista_ordinata[centro + 1] ) / 2 \n",
        "  else:\n",
        "    return lista_ordinata[centro]\n",
        "\n",
        "lista = [ 1, 20, 3, 4, 5, 1.6, 7, 8, 3.9, 10]\n",
        "print(mediana(lista))\n",
        "\n"
      ],
      "execution_count": 66,
      "outputs": [
        {
          "output_type": "stream",
          "text": [
            "4.5\n"
          ],
          "name": "stdout"
        }
      ]
    }
  ]
}